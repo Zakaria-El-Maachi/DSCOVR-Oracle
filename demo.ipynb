{
 "cells": [
  {
   "cell_type": "code",
   "execution_count": null,
   "metadata": {},
   "outputs": [],
   "source": [
    "from keras.models import load_model\n",
    "import pandas as pd\n",
    "import numpy as np"
   ]
  },
  {
   "cell_type": "code",
   "execution_count": null,
   "metadata": {},
   "outputs": [],
   "source": [
    "x = 0\n",
    "while x != 10:\n",
    "    print(\"Enter the Geomagnetic Measure you would like to forecast (The number) : \")\n",
    "    target_cols = [\"SW Plasma Temperature, K\", \n",
    "         \"SW Proton Density, N/cm^3\", \"SW Plasma Speed, km/s\",\"SW Plasma flow long. angle\", \n",
    "         \"SW Plasma flow lat. angle\", \"Flow pressure\", \"Kp index\", \"Dst-index\", \"AL-index\", \"AU-index\"]"
   ]
  }
 ],
 "metadata": {
  "kernelspec": {
   "display_name": "MLProjects",
   "language": "python",
   "name": "python3"
  },
  "language_info": {
   "name": "python",
   "version": "3.10.9"
  }
 },
 "nbformat": 4,
 "nbformat_minor": 2
}
