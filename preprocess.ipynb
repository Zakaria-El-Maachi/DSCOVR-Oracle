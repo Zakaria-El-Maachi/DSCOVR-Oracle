{
 "cells": [
  {
   "cell_type": "code",
   "execution_count": 10,
   "metadata": {},
   "outputs": [],
   "source": [
    "import numpy as np\n",
    "import pandas as pd\n",
    "import matplotlib.pyplot as plt\n",
    "import seaborn as sb\n",
    "# from sklearn.impute import SimpleImputer, IterativeImputer, KNNImputer"
   ]
  },
  {
   "cell_type": "code",
   "execution_count": 11,
   "metadata": {},
   "outputs": [],
   "source": [
    "for path in range(2016, 2024):\n",
    "    df = pd.read_csv(\"../temp/dsc_fc_summed_spectra_\"+ str(path)+\"_v01.csv\",\n",
    "    delimiter = ',', parse_dates=[0], \n",
    "    infer_datetime_format=True, na_values='0', header = None)\n",
    "    # Rename columns\n",
    "    shape = df.shape[1]\n",
    "    df.columns = ['datetime', 'bx', 'by', 'bz']+['row'+str(i-3) for i in range(4, shape)]\n",
    "    df.dtypes\n",
    "\n",
    "    # Transform the datetime column \n",
    "    df['year'] = df['datetime'].dt.year\n",
    "    df['month'] = df['datetime'].dt.month\n",
    "    df['day'] = df['datetime'].dt.day\n",
    "    df['hour'] = df['datetime'].dt.hour\n",
    "    df['minute'] = df['datetime'].dt.minute\n",
    "    df['second'] = df['datetime'].dt.second\n",
    "    del df['datetime']\n",
    "\n",
    "    # Reorder the columns\n",
    "    df = df[['year', 'month', 'day', 'hour', 'minute', 'second'] + ['bx', 'by', 'bz'] + ['row'+str(i-3) for i in range(4, shape)]]\n",
    "    # Group by 'hour' \n",
    "    def count_rows(x):\n",
    "        return len(x)\n",
    "\n",
    "    agg_funcs = {\n",
    "            'minute': count_rows,  \n",
    "            'second': 'sum'  \n",
    "        }\n",
    "    agg_funcs.update({col: 'mean' for col in df.columns[6:]})\n",
    "\n",
    "    df = df.groupby(['year', 'month', 'day', 'hour']).agg(agg_funcs).reset_index()\n",
    "    del df['second']\n",
    "    df.to_csv(\"../dscovr/dsc_fc_summed_spectra_\"+ str(path)+\"_v01.csv\", index=False)\n"
   ]
  },
  {
   "cell_type": "code",
   "execution_count": 444,
   "metadata": {},
   "outputs": [],
   "source": [
    "# # SimpleImputer\n",
    "# simple_imputer = SimpleImputer(missing_values=np.nan, strategy='mean')\n",
    "# imp_s = simple_imputer.fit_transform(df[df.columns[1:]])\n",
    "# df_imputed_simple = pd.concat([df[df.columns[:1]], pd.DataFrame(imp_s, columns=df.columns[1:])], axis=1)\n",
    "# df_imputed_simple.head()\n",
    "\n",
    "# # simple_imputer = SimpleImputer(missing_values=np.nan, strategy='mean')\n",
    "# # df_imputed_simple = pd.DataFrame(simple_imputer.fit_transform(df), columns=df.columns)\n",
    "# # df_imputed_simple.head()"
   ]
  },
  {
   "cell_type": "code",
   "execution_count": 445,
   "metadata": {},
   "outputs": [],
   "source": [
    "# # IterativeImputer\n",
    "# iterative_imputer = IterativeImputer(max_iter=30, random_state=0)\n",
    "# imp_iter = iterative_imputer.fit_transform(df[df.columns[1:]])\n",
    "# df_imputed_iter = pd.concat([df[df.columns[:1]], pd.DataFrame(imp_iter, columns=df.columns[1:])], axis=1)\n",
    "# df_imputed_iter.head()"
   ]
  },
  {
   "cell_type": "code",
   "execution_count": 446,
   "metadata": {},
   "outputs": [],
   "source": [
    "# # KNNImputer\n",
    "# knn_imputer = KNNImputer(n_neighbors=5)\n",
    "# imp_knn = knn_imputer.fit_transform(df[df.columns[1:]])\n",
    "# df_imputed_knn = pd.concat([df[df.columns[:1]], pd.DataFrame(imp_knn, columns=df.columns[1:])], axis=1)\n",
    "# df_imputed_knn.head()"
   ]
  }
 ],
 "metadata": {
  "kernelspec": {
   "display_name": "MLProjects",
   "language": "python",
   "name": "python3"
  },
  "language_info": {
   "codemirror_mode": {
    "name": "ipython",
    "version": 3
   },
   "file_extension": ".py",
   "mimetype": "text/x-python",
   "name": "python",
   "nbconvert_exporter": "python",
   "pygments_lexer": "ipython3",
   "version": "3.10.9"
  },
  "orig_nbformat": 4
 },
 "nbformat": 4,
 "nbformat_minor": 2
}
