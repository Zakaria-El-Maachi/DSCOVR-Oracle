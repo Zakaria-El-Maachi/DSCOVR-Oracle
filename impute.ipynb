{
 "cells": [
  {
   "cell_type": "code",
   "execution_count": 62,
   "metadata": {},
   "outputs": [],
   "source": [
    "import numpy as np\n",
    "import pandas as pd\n",
    "import matplotlib.pyplot as plt\n",
    "import seaborn as sb"
   ]
  },
  {
   "cell_type": "code",
   "execution_count": 63,
   "metadata": {},
   "outputs": [],
   "source": [
    "cols = [\"YEAR\", \"DAY\", \"HOUR\", \"ID for IMF\", \"ID for SW Plasma\", \"# of points in IMF averages\",\n",
    "         \"# of points in Plasma averages\", \"BX\", \"BY\", \"BZ\", \"SW Plasma Temperature, K\", \n",
    "         \"SW Proton Density, N/cm^3\", \"SW Plasma Speed, km/s\",\"SW Plasma flow long. angle\", \n",
    "         \"SW Plasma flow lat. angle\", \"Flow pressure\", \"Kp index\", \"Dst-index\", \"AL-index\", \"AU-index\"]\n",
    "\n",
    "fill_values = [-1, -1, -1, 99, 99, 999, 999, 999.9, 999.9, 999.9, 9999999, 999.9, 9999, 999.9, 999.9, 99.99,\n",
    "               -1, -1, -1, -1]"
   ]
  },
  {
   "cell_type": "code",
   "execution_count": 64,
   "metadata": {},
   "outputs": [],
   "source": [
    "for path in range(2016, 2024):\n",
    "    df = pd.read_csv(\"../omni\"+str(path)+\".txt\", delim_whitespace = True, names=cols, header=0)\n",
    "    for i in range(20):\n",
    "        df[cols[i]] = df[cols[i]].replace(fill_values[i], np.nan)\n",
    "    df.to_csv(\"../temp/omni\"+str(path)+\".csv\", index=False)"
   ]
  },
  {
   "cell_type": "code",
   "execution_count": null,
   "metadata": {},
   "outputs": [],
   "source": []
  }
 ],
 "metadata": {
  "kernelspec": {
   "display_name": "MLProjects",
   "language": "python",
   "name": "python3"
  },
  "language_info": {
   "codemirror_mode": {
    "name": "ipython",
    "version": 3
   },
   "file_extension": ".py",
   "mimetype": "text/x-python",
   "name": "python",
   "nbconvert_exporter": "python",
   "pygments_lexer": "ipython3",
   "version": "3.10.9"
  },
  "orig_nbformat": 4
 },
 "nbformat": 4,
 "nbformat_minor": 2
}
