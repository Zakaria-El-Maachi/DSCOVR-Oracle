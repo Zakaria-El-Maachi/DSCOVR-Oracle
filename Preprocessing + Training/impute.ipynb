{
 "cells": [
  {
   "cell_type": "code",
   "execution_count": 62,
   "metadata": {},
   "outputs": [],
   "source": [
    "import numpy as np\n",
    "import pandas as pd\n",
    "import matplotlib.pyplot as plt\n",
    "import seaborn as sb\n",
    "from pandas_profiling import ProfileReport\n",
    "from keras.preprocessing.sequence import TimeseriesGenerator\n",
    "from keras.models import Sequential\n",
    "from keras.layers import Dense\n",
    "from keras.layers import LSTM"
   ]
  },
  {
   "cell_type": "code",
   "execution_count": 63,
   "metadata": {},
   "outputs": [],
   "source": [
    "cols = [\"YEAR\", \"DAY\", \"HOUR\", \"ID for IMF\", \"ID for SW Plasma\", \"# of points in IMF averages\",\n",
    "         \"# of points in Plasma averages\", \"BX\", \"BY\", \"BZ\", \"SW Plasma Temperature, K\", \n",
    "         \"SW Proton Density, N/cm^3\", \"SW Plasma Speed, km/s\",\"SW Plasma flow long. angle\", \n",
    "         \"SW Plasma flow lat. angle\", \"Flow pressure\", \"Kp index\", \"Dst-index\", \"AL-index\", \"AU-index\"]\n",
    "train = ''\n",
    "target = ''\n",
    "train_cols = []\n",
    "target_cols = []"
   ]
  },
  {
   "cell_type": "code",
   "execution_count": null,
   "metadata": {},
   "outputs": [],
   "source": [
    "report = ProfileReport(df)\n",
    "report.to_file('Assurance.html')"
   ]
  },
  {
   "cell_type": "code",
   "execution_count": null,
   "metadata": {},
   "outputs": [],
   "source": [
    "from sklearn.impute import KNNImputer\n",
    "\n",
    "knn_imputer = KNNImputer(n_neighbors=5, weights=\"uniform\")\n",
    "train = knn_imputer.fit_transform(train)\n",
    "train = train[train_cols]"
   ]
  },
  {
   "cell_type": "code",
   "execution_count": null,
   "metadata": {},
   "outputs": [],
   "source": [
    "from sklearn.preprocessing import MinMaxScaler\n",
    "scaler = MinMaxScaler()\n",
    "train = scaler.fit_transform(train)\n",
    "target = scaler.fit_transform(target)"
   ]
  },
  {
   "cell_type": "code",
   "execution_count": null,
   "metadata": {},
   "outputs": [],
   "source": [
    "n_input = 12\n",
    "generator = TimeseriesGenerator(train, target, length=n_input, batch_size=1)\n",
    "\n",
    "\n",
    "model = Sequential()\n",
    "model.add(LSTM(1001, activation='relu', input_shape=(n_input, n_features)))\n",
    "model.add(Dense(1))\n",
    "model.compile(optimizer='adam', loss='mse')"
   ]
  },
  {
   "cell_type": "code",
   "execution_count": 64,
   "metadata": {},
   "outputs": [],
   "source": [
    "from sklearn.model_selection import KFold\n",
    "k = 10\n",
    "kf = KFold(n_splits=k,random_state=2020,shuffle=True)  ; \n",
    "for i , (train_indices, test_indices) in enumerate(kf.split(train)):\n",
    "    train_train_, y_train_ = train.iloc[train_indices], target[train_indices]\n",
    "    train_valid_, y_valid_ = train.iloc[test_indices], target[test_indices]\n",
    "    \n",
    "    \n",
    "    model.fit(train_train_, y_train_)\n",
    "\n",
    "    pred = model.predict(train_valid_)\n",
    "    oof[test_indices] = pred\n",
    "    print ('Fold',i,'- score:',mean_squared_error(y_valid_, pred))\n",
    "    \n",
    "    pred_test += model.predict(train_test) / k ;\n",
    "    \n",
    "print (mean_squared_error(Y, oof))"
   ]
  },
  {
   "cell_type": "code",
   "execution_count": null,
   "metadata": {},
   "outputs": [],
   "source": []
  }
 ],
 "metadata": {
  "kernelspec": {
   "display_name": "MLProjects",
   "language": "python",
   "name": "python3"
  },
  "language_info": {
   "codemirror_mode": {
    "name": "ipython",
    "version": 3
   },
   "file_extension": ".py",
   "mimetype": "text/x-python",
   "name": "python",
   "nbconvert_exporter": "python",
   "pygments_lexer": "ipython3",
   "version": "3.10.9"
  },
  "orig_nbformat": 4
 },
 "nbformat": 4,
 "nbformat_minor": 2
}
